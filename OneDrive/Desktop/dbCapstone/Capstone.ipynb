{
 "cells": [
  {
   "cell_type": "code",
   "execution_count": 15,
   "id": "4599b3fb-8edb-4830-a241-9cda6e35cd87",
   "metadata": {},
   "outputs": [],
   "source": [
    "import mysql.connector as connector"
   ]
  },
  {
   "cell_type": "code",
   "execution_count": 16,
   "id": "9f9152b5-5fea-401a-998e-886059782b3b",
   "metadata": {},
   "outputs": [],
   "source": [
    "connection = connector.connect(host= \"localhost\", user = \"user\", password = \"password\", database=\"littlelemondb\")"
   ]
  },
  {
   "cell_type": "code",
   "execution_count": 17,
   "id": "13089102-f265-491d-9a71-59f08972b33c",
   "metadata": {},
   "outputs": [],
   "source": [
    "cursor= connection.cursor()"
   ]
  },
  {
   "cell_type": "code",
   "execution_count": 18,
   "id": "ac8f1dd8-a534-49f6-b5af-a7a1f6ed2ac9",
   "metadata": {},
   "outputs": [],
   "source": [
    "show_tables_query = \"SHOW tables\" "
   ]
  },
  {
   "cell_type": "code",
   "execution_count": 19,
   "id": "d96f1c57-698b-4091-91fc-f566d2f4c462",
   "metadata": {},
   "outputs": [],
   "source": [
    "cursor.execute(show_tables_query)"
   ]
  },
  {
   "cell_type": "code",
   "execution_count": 20,
   "id": "31716e8b-b931-428c-bf39-6a9b08828b19",
   "metadata": {},
   "outputs": [],
   "source": [
    "results = cursor.fetchall()"
   ]
  },
  {
   "cell_type": "code",
   "execution_count": 21,
   "id": "4e40ddbc-3082-4370-8d3b-8402442df6f1",
   "metadata": {},
   "outputs": [
    {
     "name": "stdout",
     "output_type": "stream",
     "text": [
      "[('bookings',), ('customerdetails',), ('menu',), ('order delivery status',), ('orders',), ('ordersview',), ('staff information',)]\n"
     ]
    }
   ],
   "source": [
    "print(results)"
   ]
  },
  {
   "cell_type": "code",
   "execution_count": 22,
   "id": "df4a9051-ff8c-4182-80b7-f6666f839e57",
   "metadata": {},
   "outputs": [],
   "source": [
    "query1= \"\"\"\n",
    "SELECT\n",
    "    customerdetails.CustomerName,\n",
    "    customerdetails.ContactDetails\n",
    "FROM\n",
    "    Orders\n",
    "JOIN\n",
    "    customerdetails ON Orders.CustomerID = customerdetails.CustomerID\n",
    "WHERE\n",
    "    orders.TotalCost > 60;\n",
    "\"\"\""
   ]
  },
  {
   "cell_type": "code",
   "execution_count": 23,
   "id": "b7bb164f-84dd-4c35-92ed-4d1d34df3b82",
   "metadata": {},
   "outputs": [],
   "source": [
    "cursor.execute(query1)"
   ]
  },
  {
   "cell_type": "code",
   "execution_count": 24,
   "id": "ab39370b-cab4-44ea-8430-18bffbadfa7d",
   "metadata": {},
   "outputs": [],
   "source": [
    "results = cursor.fetchall()"
   ]
  },
  {
   "cell_type": "code",
   "execution_count": 25,
   "id": "01b0d4b6-2e46-40fa-9453-b97620ba4007",
   "metadata": {},
   "outputs": [
    {
     "name": "stdout",
     "output_type": "stream",
     "text": [
      "Full Name: Vanessa McCarthy, Contact Details: nessa@gmail.com\n",
      "Full Name: Marcos Romero, Contact Details: marco@yahoo.com\n"
     ]
    }
   ],
   "source": [
    "for row in results:\n",
    "    print(f\"Full Name: {row[0]}, Contact Details: {row[1]}\")"
   ]
  },
  {
   "cell_type": "code",
   "execution_count": null,
   "id": "43c0ef67-8b86-4f36-a2fd-5a8aa8a453b0",
   "metadata": {},
   "outputs": [],
   "source": []
  }
 ],
 "metadata": {
  "kernelspec": {
   "display_name": "Python 3 (ipykernel)",
   "language": "python",
   "name": "python3"
  },
  "language_info": {
   "codemirror_mode": {
    "name": "ipython",
    "version": 3
   },
   "file_extension": ".py",
   "mimetype": "text/x-python",
   "name": "python",
   "nbconvert_exporter": "python",
   "pygments_lexer": "ipython3",
   "version": "3.12.0"
  }
 },
 "nbformat": 4,
 "nbformat_minor": 5
}
